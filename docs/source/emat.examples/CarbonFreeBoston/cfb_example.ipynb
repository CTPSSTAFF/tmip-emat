{
 "cells": [
  {
   "cell_type": "markdown",
   "metadata": {},
   "source": [
    "# Carbon Free Boston"
   ]
  },
  {
   "cell_type": "code",
   "execution_count": null,
   "metadata": {},
   "outputs": [],
   "source": [
    "import emat\n",
    "emat.__version__"
   ]
  },
  {
   "cell_type": "code",
   "execution_count": null,
   "metadata": {},
   "outputs": [],
   "source": [
    "import os"
   ]
  },
  {
   "cell_type": "code",
   "execution_count": null,
   "metadata": {},
   "outputs": [],
   "source": [
    "import ema_workbench\n",
    "\n",
    "from ema_workbench import TimeSeriesOutcome, ema_logging, perform_experiments\n",
    "from ema_workbench.connectors.excel import ExcelModel\n",
    "from ema_workbench.em_framework.evaluators import MultiprocessingEvaluator, SequentialEvaluator\n",
    "from ema_workbench import BooleanParameter, IntegerParameter, RealParameter, ScalarOutcome, Constraint"
   ]
  },
  {
   "cell_type": "code",
   "execution_count": null,
   "metadata": {},
   "outputs": [],
   "source": [
    "ema_logging.log_to_stderr(level=ema_logging.INFO)"
   ]
  },
  {
   "cell_type": "code",
   "execution_count": null,
   "metadata": {},
   "outputs": [],
   "source": [
    "excel_file = \"./CFB/CFB-Trans_v1.3.3.xlsm\"\n",
    "assert os.path.exists(excel_file)"
   ]
  },
  {
   "cell_type": "code",
   "execution_count": null,
   "metadata": {},
   "outputs": [],
   "source": [
    "scope_file = './CFB/CFB-emat.yaml'\n",
    "assert os.path.exists(scope_file)"
   ]
  },
  {
   "cell_type": "code",
   "execution_count": null,
   "metadata": {},
   "outputs": [],
   "source": [
    "import os\n",
    "wd, model_file = os.path.split(excel_file)\n",
    "wd, model_file"
   ]
  },
  {
   "cell_type": "raw",
   "metadata": {},
   "source": [
    "The model scope is defined in a YAML file.  For this CFB example, the scope file is named \n",
    ":ref:`CFB-emat.yaml <cfb_scope_file>`.  Because interfacing with Excel-based models is \n",
    "relatively standard, the configuration for writing the \"hooks\" to write in parmeters and\n",
    "read out levers can simply be written in to the scope configuration file, by adding \"address\"\n",
    "keys to each parameter and performance measure.  These provide the cell address (including \n",
    "optional sheet name) for each item."
   ]
  },
  {
   "cell_type": "code",
   "execution_count": null,
   "metadata": {},
   "outputs": [],
   "source": [
    "model = emat.ExcelCoreModel(\n",
    "    wd=wd, \n",
    "    model_file=model_file,\n",
    "    scope=scope_file,\n",
    ")"
   ]
  },
  {
   "cell_type": "markdown",
   "metadata": {},
   "source": [
    "## Using a Database\n",
    "\n",
    "The exploratory modeling process will typically generate many different sets of outputs,\n",
    "for different explored modeling scopes, or for different applications.  It is convenient\n",
    "to organize these outputs in a database structure, so they are stored consistently and \n",
    "readily available for subsequent analysis.\n",
    "\n",
    "The `SQLiteDB` object will create a database to store results.  When instantiated with\n",
    "no arguments, the database is initialized in-memory, which will not store anything to\n",
    "disk (which is convenient for this example, but in practice you will generally want to\n",
    "store data to disk so that it can persist after this Python session ends)."
   ]
  },
  {
   "cell_type": "code",
   "execution_count": null,
   "metadata": {},
   "outputs": [],
   "source": [
    "db = emat.SQLiteDB('./CFB/CFB3.sqldb', initialize=True)"
   ]
  },
  {
   "cell_type": "markdown",
   "metadata": {},
   "source": [
    "An EMAT Scope can be stored in the database, to provide needed information about what the \n",
    "various inputs and outputs represent."
   ]
  },
  {
   "cell_type": "code",
   "execution_count": null,
   "metadata": {},
   "outputs": [],
   "source": [
    "model.scope.store_scope(db)\n",
    "model.db = db"
   ]
  },
  {
   "cell_type": "markdown",
   "metadata": {},
   "source": [
    "Trying to store another scope with the same name (or the same scope) raises a KeyError."
   ]
  },
  {
   "cell_type": "code",
   "execution_count": null,
   "metadata": {},
   "outputs": [],
   "source": [
    "from emat.experiment.experimental_design import design_experiments"
   ]
  },
  {
   "cell_type": "code",
   "execution_count": null,
   "metadata": {},
   "outputs": [],
   "source": [
    "design = design_experiments(model.scope, db=db, n_samples=500, sampler='lhs')\n",
    "design.head()"
   ]
  },
  {
   "cell_type": "code",
   "execution_count": null,
   "metadata": {},
   "outputs": [],
   "source": [
    "with MultiprocessingEvaluator(model, n_processes=4) as evaluator:\n",
    "    lhs_results = model.run_experiments(design_name='lhs', evaluator=evaluator, db=db)\n",
    "lhs_results.head()"
   ]
  },
  {
   "cell_type": "code",
   "execution_count": null,
   "metadata": {},
   "outputs": [],
   "source": [
    "# model.constraints = [\n",
    "\n",
    "# Constraint(\n",
    "#     'Light-duty vehicles: Total Fleet Size', \n",
    "#     parameter_names=[\n",
    "#         \"Light-duty vehicles: % of LDV stock: EV\",\n",
    "#         \"Light-duty vehicles: % of LDV stock: PHEV\",\n",
    "#     ],\n",
    "#     function= lambda *x: 100-sum(*x),\n",
    "# )\n",
    "# ]"
   ]
  },
  {
   "cell_type": "code",
   "execution_count": null,
   "metadata": {},
   "outputs": [],
   "source": [
    "# model.get_feature_scores('lhs')"
   ]
  },
  {
   "cell_type": "code",
   "execution_count": null,
   "metadata": {},
   "outputs": [],
   "source": [
    "model.db = db"
   ]
  },
  {
   "cell_type": "code",
   "execution_count": null,
   "metadata": {},
   "outputs": [],
   "source": [
    "lhs_results.to_csv('./CFB/CFB-500.csv')"
   ]
  },
  {
   "cell_type": "code",
   "execution_count": null,
   "metadata": {},
   "outputs": [],
   "source": [
    "db"
   ]
  },
  {
   "cell_type": "code",
   "execution_count": null,
   "metadata": {},
   "outputs": [],
   "source": [
    "db.read_experiment_all('CFB','lhs')"
   ]
  },
  {
   "cell_type": "code",
   "execution_count": null,
   "metadata": {},
   "outputs": [],
   "source": [
    "db.read_scope_names()"
   ]
  },
  {
   "cell_type": "code",
   "execution_count": null,
   "metadata": {},
   "outputs": [],
   "source": [
    "db.read_design_names('CFB')"
   ]
  },
  {
   "cell_type": "code",
   "execution_count": null,
   "metadata": {},
   "outputs": [],
   "source": [
    "db.close()"
   ]
  },
  {
   "cell_type": "code",
   "execution_count": null,
   "metadata": {},
   "outputs": [],
   "source": [
    "db.conn.close()"
   ]
  },
  {
   "cell_type": "code",
   "execution_count": null,
   "metadata": {},
   "outputs": [],
   "source": []
  }
 ],
 "metadata": {
  "kernelspec": {
   "display_name": "Python [conda env:EMAT]",
   "language": "python",
   "name": "conda-env-EMAT-py"
  },
  "language_info": {
   "codemirror_mode": {
    "name": "ipython",
    "version": 3
   },
   "file_extension": ".py",
   "mimetype": "text/x-python",
   "name": "python",
   "nbconvert_exporter": "python",
   "pygments_lexer": "ipython3",
   "version": "3.6.7"
  }
 },
 "nbformat": 4,
 "nbformat_minor": 2
}
